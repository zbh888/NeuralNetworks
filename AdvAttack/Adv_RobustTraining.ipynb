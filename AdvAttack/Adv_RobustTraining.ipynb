{
 "cells": [
  {
   "cell_type": "code",
   "execution_count": 121,
   "metadata": {
    "id": "xMS-5x3IKNjO"
   },
   "outputs": [],
   "source": [
    "import numpy as np\n",
    "import torch\n",
    "import torch.nn as nn\n",
    "import torchvision\n",
    "import matplotlib.pyplot as plt\n",
    "from tqdm import tqdm\n",
    "import os\n",
    "import random\n",
    "device = 'cuda' if torch.cuda.is_available() else 'cpu'\n",
    "os.environ['KMP_DUPLICATE_LIB_OK']='True'\n",
    "\n",
    "def draw(x):\n",
    "    with torch.no_grad():\n",
    "        img_size = 28\n",
    "        plt.imshow(x.cpu().numpy().reshape((img_size,img_size)), cmap='gray');\n",
    "        plt.axis('off');"
   ]
  },
  {
   "cell_type": "code",
   "execution_count": 122,
   "metadata": {
    "colab": {
     "base_uri": "https://localhost:8080/",
     "height": 772,
     "referenced_widgets": [
      "4465fee0311846718952e7f4d32c0455",
      "14d03d1220b84075a4642a22ac362cca",
      "887998fbfd294ceb9e9b30e95b5bcc98",
      "639a62c43f85412db4d74a1de1004adb",
      "d7f31f3eee754d568220d010aa14ee1e",
      "a596d207294746148cad543563e3600b",
      "20011c775bc34839b29a62093ad0475c",
      "0dfe145108e942baad2aaac6eb60fdc3",
      "e79834faee6c46fd93ba120a3bd17b23",
      "99823d19059e447796bbd2ba751e10ab",
      "bcd5a81d78b84b929b0ea959e6a7611a",
      "a4c6b27d76d04a498587c1b82a2eb65b",
      "1c6c6718b9b34adea6a8db9edc3c847d",
      "22db1894fff44ce59df2f825f76baab5",
      "7ffed870b5874f2f894a5038dabf3081",
      "e2d14972964d48b9b7581c95dc0c3abb",
      "0fa88e95c9e64dfd821e842c7a0cc314",
      "094eafef343646a2b14a49c6cef5d69b",
      "326e2d5167f340aa8ea12f38cc4d908b",
      "10473718c6a243798ce9b1c5828af929",
      "0ffd7804fff24003a1bd47991aab272a",
      "a1b6d93d64944822b464263ee550fb69",
      "998b7514e1014fa6af8715187d5016e4",
      "8c773d0669384360b106bd1872fb8bc4",
      "fce59353185a4c5ab447d161f4c256f0",
      "a962879d90f1490f92f16f028da80d40",
      "74fc3a3966b8487ba9f42d5caeec779a",
      "562598e8a9d34eb2a09bafe8551996b6",
      "731817dfb4b044edb76dbed7b9044533",
      "de1208c7c4a54ce2b8151e11191343e4",
      "0d3b6a95fa304935b32b1f377d299143",
      "3aac7a280a224484b9e9840ad4a2b98d"
     ]
    },
    "id": "PajHbNKfKNjQ",
    "outputId": "33bf7d87-b95d-4914-dd28-162b244b9472"
   },
   "outputs": [],
   "source": [
    "ds_train = torchvision.datasets.MNIST('./files/', train=True, download=True,\n",
    "                            transform=torchvision.transforms.Compose([\n",
    "                            torchvision.transforms.ToTensor(),\n",
    "                            torchvision.transforms.Lambda((lambda x: torch.flatten(x))),\n",
    "                            ]))\n",
    "\n",
    "ds_test = torchvision.datasets.MNIST('./files/', train=False, download=True,\n",
    "                            transform=torchvision.transforms.Compose([\n",
    "                            torchvision.transforms.ToTensor(),\n",
    "                            torchvision.transforms.Lambda((lambda x: torch.flatten(x))),\n",
    "                            ]))"
   ]
  },
  {
   "cell_type": "code",
   "execution_count": 123,
   "metadata": {
    "id": "h9b-SpYZKNjR"
   },
   "outputs": [],
   "source": [
    "batch_size = 128\n",
    "\n",
    "train_dl = torch.utils.data.DataLoader(ds_train, batch_size=batch_size, shuffle=True)\n",
    "test_dl = torch.utils.data.DataLoader(ds_test, batch_size=batch_size, shuffle=True)"
   ]
  },
  {
   "cell_type": "code",
   "execution_count": 4,
   "metadata": {
    "id": "6o-xSrtiKNjS"
   },
   "outputs": [],
   "source": [
    "class Network(nn.Module):\n",
    "    def __init__(self):\n",
    "        super().__init__()\n",
    "        self.network = nn.Sequential(\n",
    "            nn.Linear(28*28, 200), \n",
    "            nn.ReLU(),\n",
    "            nn.Linear(200, 10), \n",
    "            nn.LogSoftmax(dim=-1),\n",
    "            )\n",
    "        self.loss_fcn = nn.NLLLoss()\n",
    "        self.losses = []\n",
    "        self.to(device)\n",
    "        \n",
    "        \n",
    "    def forward(self, x):\n",
    "        return self.network(x)\n",
    "    \n",
    "    \n",
    "    def learn(self, dl, optimizer=None, epochs=10):\n",
    "        \n",
    "        for epoch in tqdm(range(epochs)):\n",
    "            total_loss = 0.\n",
    "            for x, t in dl:\n",
    "                x = x.to(device)  \n",
    "                t = t.to(device)\n",
    "                y = self(x)\n",
    "                loss = self.loss_fcn(y, t)\n",
    "                \n",
    "                optimizer.zero_grad()\n",
    "                loss.backward()\n",
    "                optimizer.step()\n",
    "                \n",
    "                total_loss += loss.item()*len(t)\n",
    "            self.losses.append(total_loss/len(dl.dataset))\n",
    "        plt.plot(self.losses)\n",
    "        plt.yscale('log')\n",
    "        plt.show()"
   ]
  },
  {
   "cell_type": "code",
   "execution_count": 5,
   "metadata": {
    "colab": {
     "base_uri": "https://localhost:8080/",
     "height": 282
    },
    "id": "3R7VlGIPKNjT",
    "outputId": "f7f4ecfa-5f20-4aec-ed21-ab3921cf6f59"
   },
   "outputs": [],
   "source": [
    "#net = Network()\n",
    "#optimizer=torch.optim.Adam(net.parameters(), lr=0.001)\n",
    "#net.learn(train_dl, optimizer, epochs=20)\n",
    "#torch.save(net.cpu(), 'Pretrained_mnist.pt')"
   ]
  },
  {
   "cell_type": "code",
   "execution_count": 28,
   "metadata": {},
   "outputs": [],
   "source": [
    "net = torch.load('Pretrained_mnist.pt')"
   ]
  },
  {
   "cell_type": "code",
   "execution_count": 29,
   "metadata": {
    "colab": {
     "base_uri": "https://localhost:8080/"
    },
    "id": "ra6Fu85BKkyB",
    "outputId": "f28fd3bd-77d4-45e8-aa18-fe84416313d0"
   },
   "outputs": [
    {
     "name": "stdout",
     "output_type": "stream",
     "text": [
      "Accuracy = 97.93%\n"
     ]
    }
   ],
   "source": [
    "def accuracy(net, dl):\n",
    "    net.eval()\n",
    "    correct = 0\n",
    "    with torch.no_grad():\n",
    "        for x,t in dl:\n",
    "            x.to(device)\n",
    "            t.to(device)\n",
    "            result = torch.argmax(net(x), dim = 1)\n",
    "            correct += torch.sum(result == t).item()\n",
    "    return correct/len(dl.dataset)\n",
    "\n",
    "print(f'Accuracy = {accuracy(net, test_dl)*100.:0.2f}%')"
   ]
  },
  {
   "cell_type": "markdown",
   "metadata": {},
   "source": [
    "# FGSM"
   ]
  },
  {
   "cell_type": "code",
   "execution_count": 8,
   "metadata": {},
   "outputs": [],
   "source": [
    "# Untargeted attack\n",
    "def fgsm(net, x, t, eps):\n",
    "    x_adv = x.clone().to(device)\n",
    "    x_adv.requires_grad = True\n",
    "    y = net(x_adv)\n",
    "    loss = net.loss_fcn(y, t) # compute the loss\n",
    "\n",
    "    net.zero_grad()\n",
    "    loss.backward() # gradient obtained\n",
    "    with torch.no_grad():\n",
    "        x_adv = x_adv + eps * (torch.sign(x_adv.grad))\n",
    "    return x_adv"
   ]
  },
  {
   "cell_type": "markdown",
   "metadata": {},
   "source": [
    "# $\\epsilon = 0.2 $"
   ]
  },
  {
   "cell_type": "code",
   "execution_count": 9,
   "metadata": {},
   "outputs": [
    {
     "name": "stdout",
     "output_type": "stream",
     "text": [
      "Accuracy = 0.17%\n"
     ]
    },
    {
     "data": {
      "image/png": "[encoded data removed]",
      "text/plain": [
       "<Figure size 1440x2160 with 20 Axes>"
      ]
     },
     "metadata": {
      "needs_background": "light"
     },
     "output_type": "display_data"
    }
   ],
   "source": [
    "net = torch.load('Pretrained_mnist.pt')\n",
    "test_dl_adv = torch.utils.data.DataLoader(ds_test, batch_size=len(ds_test), shuffle=True)\n",
    "x_adv,t_adv = next(iter(test_dl_adv))\n",
    "x_adv = fgsm(net, x_adv,t_adv, eps = 0.2)\n",
    "\n",
    "ds = torch.utils.data.TensorDataset(x_adv,t_adv)\n",
    "dl = torch.utils.data.DataLoader(ds, batch_size=batch_size, shuffle=True)\n",
    "\n",
    "net = torch.load('Pretrained_mnist.pt')\n",
    "acc = accuracy(net, dl)\n",
    "print(f'Accuracy = {acc*100.:0.2f}%')\n",
    "\n",
    "plt.figure(figsize=(20,30))\n",
    "\n",
    "for i in range(20):\n",
    "    plt.subplot(10,10,i+1)\n",
    "    num = random.randint(0, len(x_adv)-1)\n",
    "    draw(x_adv.data[num]); plt.title(t_adv[num].item());"
   ]
  },
  {
   "cell_type": "markdown",
   "metadata": {},
   "source": [
    "We see here despite the adversarial digits looks to match their label exactly, the network gives a low accuracy. And the digits are a little bit vague."
   ]
  },
  {
   "cell_type": "markdown",
   "metadata": {},
   "source": [
    "# $\\epsilon = 0.1$"
   ]
  },
  {
   "cell_type": "code",
   "execution_count": 10,
   "metadata": {},
   "outputs": [
    {
     "name": "stdout",
     "output_type": "stream",
     "text": [
      "Accuracy = 3.60%\n"
     ]
    },
    {
     "data": {
      "image/png": "[encoded data removed]",
      "text/plain": [
       "<Figure size 1440x2160 with 20 Axes>"
      ]
     },
     "metadata": {
      "needs_background": "light"
     },
     "output_type": "display_data"
    }
   ],
   "source": [
    "net = torch.load('Pretrained_mnist.pt')\n",
    "test_dl_adv = torch.utils.data.DataLoader(ds_test, batch_size=len(ds_test), shuffle=True)\n",
    "x_adv,t_adv = next(iter(test_dl_adv))\n",
    "x_adv = fgsm(net, x_adv,t_adv, eps = 0.1)\n",
    "\n",
    "ds = torch.utils.data.TensorDataset(x_adv,t_adv)\n",
    "dl = torch.utils.data.DataLoader(ds, batch_size=batch_size, shuffle=True)\n",
    "\n",
    "net = torch.load('Pretrained_mnist.pt')\n",
    "acc = accuracy(net, dl)\n",
    "print(f'Accuracy = {acc*100.:0.2f}%')\n",
    "\n",
    "plt.figure(figsize=(20,30))\n",
    "\n",
    "for i in range(20):\n",
    "    plt.subplot(10,10,i+1)\n",
    "    num = random.randint(0, len(x_adv)-1)\n",
    "    draw(x_adv.data[num]); plt.title(t_adv[num].item());"
   ]
  },
  {
   "cell_type": "markdown",
   "metadata": {},
   "source": [
    "# $\\epsilon = 0.5$"
   ]
  },
  {
   "cell_type": "code",
   "execution_count": 11,
   "metadata": {},
   "outputs": [
    {
     "name": "stdout",
     "output_type": "stream",
     "text": [
      "Accuracy = 0.00%\n"
     ]
    },
    {
     "data": {
      "image/png": "[encoded data removed]",
      "text/plain": [
       "<Figure size 1440x2160 with 20 Axes>"
      ]
     },
     "metadata": {
      "needs_background": "light"
     },
     "output_type": "display_data"
    }
   ],
   "source": [
    "net = torch.load('Pretrained_mnist.pt')\n",
    "test_dl_adv = torch.utils.data.DataLoader(ds_test, batch_size=len(ds_test), shuffle=True)\n",
    "x_adv,t_adv = next(iter(test_dl_adv))\n",
    "x_adv = fgsm(net, x_adv,t_adv, eps = 0.5)\n",
    "\n",
    "ds = torch.utils.data.TensorDataset(x_adv,t_adv)\n",
    "dl = torch.utils.data.DataLoader(ds, batch_size=batch_size, shuffle=True)\n",
    "\n",
    "net = torch.load('Pretrained_mnist.pt')\n",
    "acc = accuracy(net, dl)\n",
    "print(f'Accuracy = {acc*100.:0.2f}%')\n",
    "\n",
    "plt.figure(figsize=(20,30))\n",
    "\n",
    "for i in range(20):\n",
    "    plt.subplot(10,10,i+1)\n",
    "    num = random.randint(0, len(x_adv)-1)\n",
    "    draw(x_adv.data[num]); plt.title(t_adv[num].item());"
   ]
  },
  {
   "cell_type": "markdown",
   "metadata": {},
   "source": [
    "As $\\epsilon$ goes smaller, the accuracy goes a little higher (but still pretty low), the digits are more clear, so that it would be hard to find out that they are generated adversial digits.\n",
    "\n",
    "As $\\epsilon$ goes larger, the accuracy goes a little lower, the digits are more vague, and it can be easily seen to be generated adversial digits."
   ]
  },
  {
   "cell_type": "code",
   "execution_count": 20,
   "metadata": {},
   "outputs": [],
   "source": [
    "class RobustNetwork(nn.Module):\n",
    "    def __init__(self):\n",
    "        super().__init__()\n",
    "        self.network = nn.Sequential(\n",
    "            nn.Linear(28*28, 200), \n",
    "            nn.ReLU(),\n",
    "            nn.Linear(200, 10), \n",
    "            nn.LogSoftmax(dim=-1),\n",
    "            )\n",
    "        self.loss_fcn = nn.NLLLoss()\n",
    "        self.losses = []\n",
    "        self.to(device)\n",
    "        \n",
    "        \n",
    "    def forward(self, x):\n",
    "        return self.network(x)\n",
    "    \n",
    "    \n",
    "    def learn(self, dl, optimizer=None, epochs=10, eps = 0.2):\n",
    "        \n",
    "        for epoch in tqdm(range(epochs)):\n",
    "            total_loss = 0.\n",
    "            for x, t in dl:\n",
    "                \n",
    "                x_adv = x.clone().to(device)\n",
    "                x_adv.requires_grad = True\n",
    "                y = self(x_adv)\n",
    "                loss = self.loss_fcn(y, t) # compute the loss\n",
    "                self.network.zero_grad()\n",
    "                loss.backward() # gradient obtained\n",
    "                with torch.no_grad():\n",
    "                    x_adv = x_adv + eps * (torch.sign(x_adv.grad))\n",
    "        \n",
    "                y = self(x_adv)\n",
    "                loss = self.loss_fcn(y, t)\n",
    "                \n",
    "                optimizer.zero_grad()\n",
    "                loss.backward()\n",
    "                optimizer.step()\n",
    "                \n",
    "                total_loss += loss.item()*len(t)\n",
    "            self.losses.append(total_loss/len(dl.dataset))\n",
    "        plt.plot(self.losses)\n",
    "        plt.yscale('log')\n",
    "        plt.show()"
   ]
  },
  {
   "cell_type": "code",
   "execution_count": 21,
   "metadata": {},
   "outputs": [
    {
     "name": "stderr",
     "output_type": "stream",
     "text": [
      "100%|██████████| 20/20 [03:48<00:00, 11.44s/it]\n"
     ]
    },
    {
     "data": {
      "image/png": "[encoded data removed]",
      "text/plain": [
       "<Figure size 432x288 with 1 Axes>"
      ]
     },
     "metadata": {
      "needs_background": "light"
     },
     "output_type": "display_data"
    }
   ],
   "source": [
    "# net = RobustNetwork()\n",
    "# optimizer=torch.optim.Adam(net.parameters(), lr=0.001)\n",
    "# net.learn(train_dl, optimizer, epochs=20)\n",
    "# torch.save(net.cpu(), 'Pretrained_robuts_mnist.pt')"
   ]
  },
  {
   "cell_type": "code",
   "execution_count": 113,
   "metadata": {},
   "outputs": [
    {
     "name": "stdout",
     "output_type": "stream",
     "text": [
      "Accuracy = 85.56%\n"
     ]
    }
   ],
   "source": [
    "net = torch.load('Pretrained_robuts_mnist.pt')\n",
    "print(f'Accuracy = {accuracy(net, test_dl)*100.:0.2f}%')"
   ]
  },
  {
   "cell_type": "markdown",
   "metadata": {},
   "source": [
    "# $\\epsilon = 0.1$"
   ]
  },
  {
   "cell_type": "code",
   "execution_count": 106,
   "metadata": {},
   "outputs": [
    {
     "name": "stdout",
     "output_type": "stream",
     "text": [
      "Accuracy = 86.84%\n",
      "Accuracy = 98.66%\n"
     ]
    },
    {
     "data": {
      "image/png": "[encoded data removed]",
      "text/plain": [
       "<Figure size 1440x2160 with 20 Axes>"
      ]
     },
     "metadata": {
      "needs_background": "light"
     },
     "output_type": "display_data"
    }
   ],
   "source": [
    "net = torch.load('Pretrained_robuts_mnist.pt')\n",
    "test_dl_adv = torch.utils.data.DataLoader(ds_test, batch_size=len(ds_test), shuffle=True)\n",
    "x_adv,t_adv = next(iter(test_dl_adv))\n",
    "x_adv = fgsm(net, x_adv,t_adv, eps = 0.1)\n",
    "\n",
    "ds = torch.utils.data.TensorDataset(x_adv,t_adv)\n",
    "dl = torch.utils.data.DataLoader(ds, batch_size=batch_size, shuffle=True)\n",
    "\n",
    "net = torch.load('Pretrained_robuts_mnist.pt')\n",
    "acc = accuracy(net, dl)\n",
    "print(f'Accuracy = {acc*100.:0.2f}%')\n",
    "\n",
    "plt.figure(figsize=(20,30))\n",
    "\n",
    "for i in range(20):\n",
    "    plt.subplot(10,10,i+1)\n",
    "    num = random.randint(0, len(x_adv)-1)\n",
    "    draw(x_adv.data[num]); plt.title(t_adv[num].item());"
   ]
  },
  {
   "cell_type": "markdown",
   "metadata": {},
   "source": [
    "# $\\epsilon = 0.2$"
   ]
  },
  {
   "cell_type": "code",
   "execution_count": 25,
   "metadata": {},
   "outputs": [
    {
     "name": "stdout",
     "output_type": "stream",
     "text": [
      "Accuracy = 98.91%\n"
     ]
    },
    {
     "data": {
      "image/png": "[encoded data removed]",
      "text/plain": [
       "<Figure size 1440x2160 with 20 Axes>"
      ]
     },
     "metadata": {
      "needs_background": "light"
     },
     "output_type": "display_data"
    }
   ],
   "source": [
    "net = torch.load('Pretrained_robuts_mnist.pt')\n",
    "test_dl_adv = torch.utils.data.DataLoader(ds_test, batch_size=len(ds_test), shuffle=True)\n",
    "x_adv,t_adv = next(iter(test_dl_adv))\n",
    "x_adv = fgsm(net, x_adv,t_adv, eps = 0.2)\n",
    "\n",
    "ds = torch.utils.data.TensorDataset(x_adv,t_adv)\n",
    "dl = torch.utils.data.DataLoader(ds, batch_size=batch_size, shuffle=True)\n",
    "\n",
    "net = torch.load('Pretrained_robuts_mnist.pt')\n",
    "acc = accuracy(net, dl)\n",
    "print(f'Accuracy = {acc*100.:0.2f}%')\n",
    "\n",
    "plt.figure(figsize=(20,30))\n",
    "\n",
    "for i in range(20):\n",
    "    plt.subplot(10,10,i+1)\n",
    "    num = random.randint(0, len(x_adv)-1)\n",
    "    draw(x_adv.data[num]); plt.title(t_adv[num].item());"
   ]
  },
  {
   "cell_type": "markdown",
   "metadata": {},
   "source": [
    "# $\\epsilon = 0.5$"
   ]
  },
  {
   "cell_type": "code",
   "execution_count": 26,
   "metadata": {},
   "outputs": [
    {
     "name": "stdout",
     "output_type": "stream",
     "text": [
      "Accuracy = 98.68%\n"
     ]
    },
    {
     "data": {
      "image/png": "[encoded data removed]",
      "text/plain": [
       "<Figure size 1440x2160 with 20 Axes>"
      ]
     },
     "metadata": {
      "needs_background": "light"
     },
     "output_type": "display_data"
    }
   ],
   "source": [
    "net = torch.load('Pretrained_robuts_mnist.pt')\n",
    "test_dl_adv = torch.utils.data.DataLoader(ds_test, batch_size=len(ds_test), shuffle=True)\n",
    "x_adv,t_adv = next(iter(test_dl_adv))\n",
    "x_adv = fgsm(net, x_adv,t_adv, eps = 0.5)\n",
    "\n",
    "ds = torch.utils.data.TensorDataset(x_adv,t_adv)\n",
    "dl = torch.utils.data.DataLoader(ds, batch_size=batch_size, shuffle=True)\n",
    "\n",
    "net = torch.load('Pretrained_robuts_mnist.pt')\n",
    "acc = accuracy(net, dl)\n",
    "print(f'Accuracy = {acc*100.:0.2f}%')\n",
    "\n",
    "plt.figure(figsize=(20,30))\n",
    "\n",
    "for i in range(20):\n",
    "    plt.subplot(10,10,i+1)\n",
    "    num = random.randint(0, len(x_adv)-1)\n",
    "    draw(x_adv.data[num]); plt.title(t_adv[num].item());"
   ]
  },
  {
   "cell_type": "markdown",
   "metadata": {},
   "source": [
    "We can see the accuracy has been increased significantly. The network is robust against FGSM."
   ]
  },
  {
   "cell_type": "markdown",
   "metadata": {},
   "source": [
    "# PGD"
   ]
  },
  {
   "cell_type": "code",
   "execution_count": 124,
   "metadata": {},
   "outputs": [],
   "source": [
    "# Untargeted attack\n",
    "def pgd(net, x, t, num_step, step_size, eps):\n",
    "    x_adv = x.clone().to(device)\n",
    "    x_adv.requires_grad = True\n",
    "    for i in range(num_step):\n",
    "        y = net(x_adv)\n",
    "        loss = net.loss_fcn(y, t)\n",
    "        net.zero_grad()\n",
    "        loss.backward()\n",
    "        with torch.no_grad():\n",
    "            x_adv = x_adv + step_size * (torch.sign(x_adv.grad))\n",
    "            delta = x_adv - x\n",
    "            delta[delta > eps] = eps\n",
    "            delta[delta < -eps] = -eps\n",
    "            x_adv = (delta + x).detach().clone().to(device)\n",
    "            x_adv.requires_grad = True\n",
    "    return x_adv.detach()"
   ]
  },
  {
   "cell_type": "code",
   "execution_count": 125,
   "metadata": {},
   "outputs": [],
   "source": [
    "class RobustPGDNetwork(nn.Module):\n",
    "    def __init__(self):\n",
    "        super().__init__()\n",
    "        self.network = nn.Sequential(\n",
    "            nn.Linear(28*28, 200), \n",
    "            nn.ReLU(),\n",
    "            nn.Linear(200, 10), \n",
    "            nn.LogSoftmax(dim=-1),\n",
    "            )\n",
    "        self.loss_fcn = nn.NLLLoss()\n",
    "        self.losses = []\n",
    "        self.to(device)\n",
    "        \n",
    "        \n",
    "    def forward(self, x):\n",
    "        return self.network(x)\n",
    "    \n",
    "    \n",
    "    def learn(self, dl, optimizer=None, epochs=10, num_step = 6,  step_size = 0.04, eps = 0.2):\n",
    "        for epoch in tqdm(range(epochs)):\n",
    "            total_loss = 0.\n",
    "            for x, t in dl:\n",
    "                x_adv = x.clone().to(device)\n",
    "                x_adv.requires_grad = True\n",
    "\n",
    "                for i in range(num_step):\n",
    "                \n",
    "                    y = self(x_adv)\n",
    "                    loss = self.loss_fcn(y, t)\n",
    "                    self.network.zero_grad()\n",
    "                    loss.backward()\n",
    "                    with torch.no_grad():\n",
    "                        x_adv = x_adv + step_size * (torch.sign(x_adv.grad))\n",
    "                        delta = x_adv - x\n",
    "                        delta[delta > eps] = eps\n",
    "                        delta[delta < -eps] = -eps\n",
    "                        x_adv = (delta + x).detach().clone().to(device)\n",
    "                        x_adv.requires_grad = True\n",
    "        \n",
    "                y = self(x_adv)\n",
    "                loss = self.loss_fcn(y, t)\n",
    "                \n",
    "                optimizer.zero_grad()\n",
    "                loss.backward()\n",
    "                optimizer.step()\n",
    "                \n",
    "                self.losses.append(loss.item()*len(t))\n",
    "        plt.plot(self.losses)\n",
    "        plt.yscale('log')\n",
    "        plt.show()"
   ]
  },
  {
   "cell_type": "code",
   "execution_count": 126,
   "metadata": {},
   "outputs": [
    {
     "name": "stderr",
     "output_type": "stream",
     "text": [
      "100%|██████████| 20/20 [08:13<00:00, 24.67s/it]\n"
     ]
    },
    {
     "data": {
      "image/png": "[encoded data removed]",
      "text/plain": [
       "<Figure size 432x288 with 1 Axes>"
      ]
     },
     "metadata": {
      "needs_background": "light"
     },
     "output_type": "display_data"
    }
   ],
   "source": [
    "net = RobustPGDNetwork()\n",
    "optimizer=torch.optim.Adam(net.parameters(), lr=0.001)\n",
    "net.learn(train_dl, optimizer, epochs=20)\n",
    "torch.save(net.cpu(), 'Pretrained_robuts_pgd_mnist.pt')"
   ]
  },
  {
   "cell_type": "code",
   "execution_count": 127,
   "metadata": {},
   "outputs": [],
   "source": [
    "net = torch.load('Pretrained_robuts_pgd_mnist.pt')"
   ]
  },
  {
   "cell_type": "code",
   "execution_count": 128,
   "metadata": {},
   "outputs": [
    {
     "name": "stdout",
     "output_type": "stream",
     "text": [
      "Accuracy = 11.35%\n"
     ]
    },
    {
     "data": {
      "image/png": "[encoded data removed]",
      "text/plain": [
       "<Figure size 1440x2160 with 20 Axes>"
      ]
     },
     "metadata": {
      "needs_background": "light"
     },
     "output_type": "display_data"
    }
   ],
   "source": [
    "net = torch.load('Pretrained_robuts_pgd_mnist.pt')\n",
    "test_dl_adv = torch.utils.data.DataLoader(ds_test, batch_size=len(ds_test), shuffle=True)\n",
    "x_adv,t_adv = next(iter(test_dl_adv))\n",
    "x_adv = pgd(net, x_adv,t_adv, 6, 0.04 ,0.1)\n",
    "\n",
    "ds = torch.utils.data.TensorDataset(x_adv,t_adv)\n",
    "dl = torch.utils.data.DataLoader(ds, batch_size=batch_size, shuffle=True)\n",
    "\n",
    "net = torch.load('Pretrained_robuts_pgd_mnist.pt')\n",
    "acc = accuracy(net, dl)\n",
    "print(f'Accuracy = {acc*100.:0.2f}%')\n",
    "\n",
    "plt.figure(figsize=(20,30))\n",
    "\n",
    "for i in range(20):\n",
    "    plt.subplot(10,10,i+1)\n",
    "    num = random.randint(0, len(x_adv)-1)\n",
    "    draw(x_adv.data[num]); plt.title(t_adv[num].item());"
   ]
  },
  {
   "cell_type": "code",
   "execution_count": 119,
   "metadata": {},
   "outputs": [
    {
     "name": "stdout",
     "output_type": "stream",
     "text": [
      "Accuracy = 44.15%\n"
     ]
    },
    {
     "data": {
      "image/png": "[encoded data removed]",
      "text/plain": [
       "<Figure size 1440x2160 with 20 Axes>"
      ]
     },
     "metadata": {
      "needs_background": "light"
     },
     "output_type": "display_data"
    }
   ],
   "source": [
    "net = torch.load('Pretrained_robuts_pgd_mnist.pt')\n",
    "test_dl_adv = torch.utils.data.DataLoader(ds_test, batch_size=len(ds_test), shuffle=True)\n",
    "x_adv,t_adv = next(iter(test_dl_adv))\n",
    "x_adv = pgd(net, x_adv,t_adv, 6, 0.04 ,0.2)\n",
    "\n",
    "ds = torch.utils.data.TensorDataset(x_adv,t_adv)\n",
    "dl = torch.utils.data.DataLoader(ds, batch_size=batch_size, shuffle=True)\n",
    "\n",
    "net = torch.load('Pretrained_robuts_pgd_mnist.pt')\n",
    "acc = accuracy(net, dl)\n",
    "print(f'Accuracy = {acc*100.:0.2f}%')\n",
    "\n",
    "plt.figure(figsize=(20,30))\n",
    "\n",
    "for i in range(20):\n",
    "    plt.subplot(10,10,i+1)\n",
    "    num = random.randint(0, len(x_adv)-1)\n",
    "    draw(x_adv.data[num]); plt.title(t_adv[num].item());"
   ]
  },
  {
   "cell_type": "code",
   "execution_count": 120,
   "metadata": {},
   "outputs": [
    {
     "name": "stdout",
     "output_type": "stream",
     "text": [
      "Accuracy = 34.80%\n"
     ]
    },
    {
     "data": {
      "image/png": "[encoded data removed]",
      "text/plain": [
       "<Figure size 1440x2160 with 20 Axes>"
      ]
     },
     "metadata": {
      "needs_background": "light"
     },
     "output_type": "display_data"
    }
   ],
   "source": [
    "net = torch.load('Pretrained_robuts_pgd_mnist.pt')\n",
    "test_dl_adv = torch.utils.data.DataLoader(ds_test, batch_size=len(ds_test), shuffle=True)\n",
    "x_adv,t_adv = next(iter(test_dl_adv))\n",
    "x_adv = pgd(net, x_adv,t_adv, 6, 0.04 ,0.5)\n",
    "\n",
    "ds = torch.utils.data.TensorDataset(x_adv,t_adv)\n",
    "dl = torch.utils.data.DataLoader(ds, batch_size=batch_size, shuffle=True)\n",
    "\n",
    "net = torch.load('Pretrained_robuts_pgd_mnist.pt')\n",
    "acc = accuracy(net, dl)\n",
    "print(f'Accuracy = {acc*100.:0.2f}%')\n",
    "\n",
    "plt.figure(figsize=(20,30))\n",
    "\n",
    "for i in range(20):\n",
    "    plt.subplot(10,10,i+1)\n",
    "    num = random.randint(0, len(x_adv)-1)\n",
    "    draw(x_adv.data[num]); plt.title(t_adv[num].item());"
   ]
  },
  {
   "cell_type": "code",
   "execution_count": null,
   "metadata": {},
   "outputs": [],
   "source": []
  }
 ],
 "metadata": {
  "colab": {
   "collapsed_sections": [],
   "name": "Attack.ipynb",
   "provenance": []
  },
  "kernelspec": {
   "display_name": "Python 3",
   "language": "python",
   "name": "python3"
  },
  "language_info": {
   "codemirror_mode": {
    "name": "ipython",
    "version": 3
   },
   "file_extension": ".py",
   "mimetype": "text/x-python",
   "name": "python",
   "nbconvert_exporter": "python",
   "pygments_lexer": "ipython3",
   "version": "3.8.5"
  },
  "widgets": {
   "application/vnd.jupyter.widget-state+json": {
    "094eafef343646a2b14a49c6cef5d69b": {
     "model_module": "@jupyter-widgets/base",
     "model_name": "LayoutModel",
     "state": {
      "_model_module": "@jupyter-widgets/base",
      "_model_module_version": "1.2.0",
      "_model_name": "LayoutModel",
      "_view_count": null,
      "_view_module": "@jupyter-widgets/base",
      "_view_module_version": "1.2.0",
      "_view_name": "LayoutView",
      "align_content": null,
      "align_items": null,
      "align_self": null,
      "border": null,
      "bottom": null,
      "display": null,
      "flex": null,
      "flex_flow": null,
      "grid_area": null,
      "grid_auto_columns": null,
      "grid_auto_flow": null,
      "grid_auto_rows": null,
      "grid_column": null,
      "grid_gap": null,
      "grid_row": null,
      "grid_template_areas": null,
      "grid_template_columns": null,
      "grid_template_rows": null,
      "height": null,
      "justify_content": null,
      "justify_items": null,
      "left": null,
      "margin": null,
      "max_height": null,
      "max_width": null,
      "min_height": null,
      "min_width": null,
      "object_fit": null,
      "object_position": null,
      "order": null,
      "overflow": null,
      "overflow_x": null,
      "overflow_y": null,
      "padding": null,
      "right": null,
      "top": null,
      "visibility": null,
      "width": null
     }
    },
    "0d3b6a95fa304935b32b1f377d299143": {
     "model_module": "@jupyter-widgets/controls",
     "model_name": "DescriptionStyleModel",
     "state": {
      "_model_module": "@jupyter-widgets/controls",
      "_model_module_version": "1.5.0",
      "_model_name": "DescriptionStyleModel",
      "_view_count": null,
      "_view_module": "@jupyter-widgets/base",
      "_view_module_version": "1.2.0",
      "_view_name": "StyleView",
      "description_width": ""
     }
    },
    "0dfe145108e942baad2aaac6eb60fdc3": {
     "model_module": "@jupyter-widgets/base",
     "model_name": "LayoutModel",
     "state": {
      "_model_module": "@jupyter-widgets/base",
      "_model_module_version": "1.2.0",
      "_model_name": "LayoutModel",
      "_view_count": null,
      "_view_module": "@jupyter-widgets/base",
      "_view_module_version": "1.2.0",
      "_view_name": "LayoutView",
      "align_content": null,
      "align_items": null,
      "align_self": null,
      "border": null,
      "bottom": null,
      "display": null,
      "flex": null,
      "flex_flow": null,
      "grid_area": null,
      "grid_auto_columns": null,
      "grid_auto_flow": null,
      "grid_auto_rows": null,
      "grid_column": null,
      "grid_gap": null,
      "grid_row": null,
      "grid_template_areas": null,
      "grid_template_columns": null,
      "grid_template_rows": null,
      "height": null,
      "justify_content": null,
      "justify_items": null,
      "left": null,
      "margin": null,
      "max_height": null,
      "max_width": null,
      "min_height": null,
      "min_width": null,
      "object_fit": null,
      "object_position": null,
      "order": null,
      "overflow": null,
      "overflow_x": null,
      "overflow_y": null,
      "padding": null,
      "right": null,
      "top": null,
      "visibility": null,
      "width": null
     }
    },
    "0fa88e95c9e64dfd821e842c7a0cc314": {
     "model_module": "@jupyter-widgets/controls",
     "model_name": "HBoxModel",
     "state": {
      "_dom_classes": [],
      "_model_module": "@jupyter-widgets/controls",
      "_model_module_version": "1.5.0",
      "_model_name": "HBoxModel",
      "_view_count": null,
      "_view_module": "@jupyter-widgets/controls",
      "_view_module_version": "1.5.0",
      "_view_name": "HBoxView",
      "box_style": "",
      "children": [
       "IPY_MODEL_326e2d5167f340aa8ea12f38cc4d908b",
       "IPY_MODEL_10473718c6a243798ce9b1c5828af929"
      ],
      "layout": "IPY_MODEL_094eafef343646a2b14a49c6cef5d69b"
     }
    },
    "0ffd7804fff24003a1bd47991aab272a": {
     "model_module": "@jupyter-widgets/controls",
     "model_name": "ProgressStyleModel",
     "state": {
      "_model_module": "@jupyter-widgets/controls",
      "_model_module_version": "1.5.0",
      "_model_name": "ProgressStyleModel",
      "_view_count": null,
      "_view_module": "@jupyter-widgets/base",
      "_view_module_version": "1.2.0",
      "_view_name": "StyleView",
      "bar_color": null,
      "description_width": "initial"
     }
    },
    "10473718c6a243798ce9b1c5828af929": {
     "model_module": "@jupyter-widgets/controls",
     "model_name": "HTMLModel",
     "state": {
      "_dom_classes": [],
      "_model_module": "@jupyter-widgets/controls",
      "_model_module_version": "1.5.0",
      "_model_name": "HTMLModel",
      "_view_count": null,
      "_view_module": "@jupyter-widgets/controls",
      "_view_module_version": "1.5.0",
      "_view_name": "HTMLView",
      "description": "",
      "description_tooltip": null,
      "layout": "IPY_MODEL_8c773d0669384360b106bd1872fb8bc4",
      "placeholder": "​",
      "style": "IPY_MODEL_998b7514e1014fa6af8715187d5016e4",
      "value": " 1649664/? [00:14&lt;00:00, 116367.07it/s]"
     }
    },
    "14d03d1220b84075a4642a22ac362cca": {
     "model_module": "@jupyter-widgets/base",
     "model_name": "LayoutModel",
     "state": {
      "_model_module": "@jupyter-widgets/base",
      "_model_module_version": "1.2.0",
      "_model_name": "LayoutModel",
      "_view_count": null,
      "_view_module": "@jupyter-widgets/base",
      "_view_module_version": "1.2.0",
      "_view_name": "LayoutView",
      "align_content": null,
      "align_items": null,
      "align_self": null,
      "border": null,
      "bottom": null,
      "display": null,
      "flex": null,
      "flex_flow": null,
      "grid_area": null,
      "grid_auto_columns": null,
      "grid_auto_flow": null,
      "grid_auto_rows": null,
      "grid_column": null,
      "grid_gap": null,
      "grid_row": null,
      "grid_template_areas": null,
      "grid_template_columns": null,
      "grid_template_rows": null,
      "height": null,
      "justify_content": null,
      "justify_items": null,
      "left": null,
      "margin": null,
      "max_height": null,
      "max_width": null,
      "min_height": null,
      "min_width": null,
      "object_fit": null,
      "object_position": null,
      "order": null,
      "overflow": null,
      "overflow_x": null,
      "overflow_y": null,
      "padding": null,
      "right": null,
      "top": null,
      "visibility": null,
      "width": null
     }
    },
    "1c6c6718b9b34adea6a8db9edc3c847d": {
     "model_module": "@jupyter-widgets/controls",
     "model_name": "ProgressStyleModel",
     "state": {
      "_model_module": "@jupyter-widgets/controls",
      "_model_module_version": "1.5.0",
      "_model_name": "ProgressStyleModel",
      "_view_count": null,
      "_view_module": "@jupyter-widgets/base",
      "_view_module_version": "1.2.0",
      "_view_name": "StyleView",
      "bar_color": null,
      "description_width": "initial"
     }
    },
    "20011c775bc34839b29a62093ad0475c": {
     "model_module": "@jupyter-widgets/controls",
     "model_name": "DescriptionStyleModel",
     "state": {
      "_model_module": "@jupyter-widgets/controls",
      "_model_module_version": "1.5.0",
      "_model_name": "DescriptionStyleModel",
      "_view_count": null,
      "_view_module": "@jupyter-widgets/base",
      "_view_module_version": "1.2.0",
      "_view_name": "StyleView",
      "description_width": ""
     }
    },
    "22db1894fff44ce59df2f825f76baab5": {
     "model_module": "@jupyter-widgets/base",
     "model_name": "LayoutModel",
     "state": {
      "_model_module": "@jupyter-widgets/base",
      "_model_module_version": "1.2.0",
      "_model_name": "LayoutModel",
      "_view_count": null,
      "_view_module": "@jupyter-widgets/base",
      "_view_module_version": "1.2.0",
      "_view_name": "LayoutView",
      "align_content": null,
      "align_items": null,
      "align_self": null,
      "border": null,
      "bottom": null,
      "display": null,
      "flex": null,
      "flex_flow": null,
      "grid_area": null,
      "grid_auto_columns": null,
      "grid_auto_flow": null,
      "grid_auto_rows": null,
      "grid_column": null,
      "grid_gap": null,
      "grid_row": null,
      "grid_template_areas": null,
      "grid_template_columns": null,
      "grid_template_rows": null,
      "height": null,
      "justify_content": null,
      "justify_items": null,
      "left": null,
      "margin": null,
      "max_height": null,
      "max_width": null,
      "min_height": null,
      "min_width": null,
      "object_fit": null,
      "object_position": null,
      "order": null,
      "overflow": null,
      "overflow_x": null,
      "overflow_y": null,
      "padding": null,
      "right": null,
      "top": null,
      "visibility": null,
      "width": null
     }
    },
    "326e2d5167f340aa8ea12f38cc4d908b": {
     "model_module": "@jupyter-widgets/controls",
     "model_name": "FloatProgressModel",
     "state": {
      "_dom_classes": [],
      "_model_module": "@jupyter-widgets/controls",
      "_model_module_version": "1.5.0",
      "_model_name": "FloatProgressModel",
      "_view_count": null,
      "_view_module": "@jupyter-widgets/controls",
      "_view_module_version": "1.5.0",
      "_view_name": "ProgressView",
      "bar_style": "success",
      "description": "",
      "description_tooltip": null,
      "layout": "IPY_MODEL_a1b6d93d64944822b464263ee550fb69",
      "max": 1648877,
      "min": 0,
      "orientation": "horizontal",
      "style": "IPY_MODEL_0ffd7804fff24003a1bd47991aab272a",
      "value": 1648877
     }
    },
    "3aac7a280a224484b9e9840ad4a2b98d": {
     "model_module": "@jupyter-widgets/base",
     "model_name": "LayoutModel",
     "state": {
      "_model_module": "@jupyter-widgets/base",
      "_model_module_version": "1.2.0",
      "_model_name": "LayoutModel",
      "_view_count": null,
      "_view_module": "@jupyter-widgets/base",
      "_view_module_version": "1.2.0",
      "_view_name": "LayoutView",
      "align_content": null,
      "align_items": null,
      "align_self": null,
      "border": null,
      "bottom": null,
      "display": null,
      "flex": null,
      "flex_flow": null,
      "grid_area": null,
      "grid_auto_columns": null,
      "grid_auto_flow": null,
      "grid_auto_rows": null,
      "grid_column": null,
      "grid_gap": null,
      "grid_row": null,
      "grid_template_areas": null,
      "grid_template_columns": null,
      "grid_template_rows": null,
      "height": null,
      "justify_content": null,
      "justify_items": null,
      "left": null,
      "margin": null,
      "max_height": null,
      "max_width": null,
      "min_height": null,
      "min_width": null,
      "object_fit": null,
      "object_position": null,
      "order": null,
      "overflow": null,
      "overflow_x": null,
      "overflow_y": null,
      "padding": null,
      "right": null,
      "top": null,
      "visibility": null,
      "width": null
     }
    },
    "4465fee0311846718952e7f4d32c0455": {
     "model_module": "@jupyter-widgets/controls",
     "model_name": "HBoxModel",
     "state": {
      "_dom_classes": [],
      "_model_module": "@jupyter-widgets/controls",
      "_model_module_version": "1.5.0",
      "_model_name": "HBoxModel",
      "_view_count": null,
      "_view_module": "@jupyter-widgets/controls",
      "_view_module_version": "1.5.0",
      "_view_name": "HBoxView",
      "box_style": "",
      "children": [
       "IPY_MODEL_887998fbfd294ceb9e9b30e95b5bcc98",
       "IPY_MODEL_639a62c43f85412db4d74a1de1004adb"
      ],
      "layout": "IPY_MODEL_14d03d1220b84075a4642a22ac362cca"
     }
    },
    "562598e8a9d34eb2a09bafe8551996b6": {
     "model_module": "@jupyter-widgets/controls",
     "model_name": "HTMLModel",
     "state": {
      "_dom_classes": [],
      "_model_module": "@jupyter-widgets/controls",
      "_model_module_version": "1.5.0",
      "_model_name": "HTMLModel",
      "_view_count": null,
      "_view_module": "@jupyter-widgets/controls",
      "_view_module_version": "1.5.0",
      "_view_name": "HTMLView",
      "description": "",
      "description_tooltip": null,
      "layout": "IPY_MODEL_3aac7a280a224484b9e9840ad4a2b98d",
      "placeholder": "​",
      "style": "IPY_MODEL_0d3b6a95fa304935b32b1f377d299143",
      "value": " 5120/? [00:10&lt;00:00, 477.71it/s]"
     }
    },
    "639a62c43f85412db4d74a1de1004adb": {
     "model_module": "@jupyter-widgets/controls",
     "model_name": "HTMLModel",
     "state": {
      "_dom_classes": [],
      "_model_module": "@jupyter-widgets/controls",
      "_model_module_version": "1.5.0",
      "_model_name": "HTMLModel",
      "_view_count": null,
      "_view_module": "@jupyter-widgets/controls",
      "_view_module_version": "1.5.0",
      "_view_name": "HTMLView",
      "description": "",
      "description_tooltip": null,
      "layout": "IPY_MODEL_0dfe145108e942baad2aaac6eb60fdc3",
      "placeholder": "​",
      "style": "IPY_MODEL_20011c775bc34839b29a62093ad0475c",
      "value": " 9913344/? [01:39&lt;00:00, 99767.26it/s]"
     }
    },
    "731817dfb4b044edb76dbed7b9044533": {
     "model_module": "@jupyter-widgets/controls",
     "model_name": "ProgressStyleModel",
     "state": {
      "_model_module": "@jupyter-widgets/controls",
      "_model_module_version": "1.5.0",
      "_model_name": "ProgressStyleModel",
      "_view_count": null,
      "_view_module": "@jupyter-widgets/base",
      "_view_module_version": "1.2.0",
      "_view_name": "StyleView",
      "bar_color": null,
      "description_width": "initial"
     }
    },
    "74fc3a3966b8487ba9f42d5caeec779a": {
     "model_module": "@jupyter-widgets/controls",
     "model_name": "FloatProgressModel",
     "state": {
      "_dom_classes": [],
      "_model_module": "@jupyter-widgets/controls",
      "_model_module_version": "1.5.0",
      "_model_name": "FloatProgressModel",
      "_view_count": null,
      "_view_module": "@jupyter-widgets/controls",
      "_view_module_version": "1.5.0",
      "_view_name": "ProgressView",
      "bar_style": "success",
      "description": "",
      "description_tooltip": null,
      "layout": "IPY_MODEL_de1208c7c4a54ce2b8151e11191343e4",
      "max": 4542,
      "min": 0,
      "orientation": "horizontal",
      "style": "IPY_MODEL_731817dfb4b044edb76dbed7b9044533",
      "value": 4542
     }
    },
    "7ffed870b5874f2f894a5038dabf3081": {
     "model_module": "@jupyter-widgets/controls",
     "model_name": "DescriptionStyleModel",
     "state": {
      "_model_module": "@jupyter-widgets/controls",
      "_model_module_version": "1.5.0",
      "_model_name": "DescriptionStyleModel",
      "_view_count": null,
      "_view_module": "@jupyter-widgets/base",
      "_view_module_version": "1.2.0",
      "_view_name": "StyleView",
      "description_width": ""
     }
    },
    "887998fbfd294ceb9e9b30e95b5bcc98": {
     "model_module": "@jupyter-widgets/controls",
     "model_name": "FloatProgressModel",
     "state": {
      "_dom_classes": [],
      "_model_module": "@jupyter-widgets/controls",
      "_model_module_version": "1.5.0",
      "_model_name": "FloatProgressModel",
      "_view_count": null,
      "_view_module": "@jupyter-widgets/controls",
      "_view_module_version": "1.5.0",
      "_view_name": "ProgressView",
      "bar_style": "success",
      "description": "",
      "description_tooltip": null,
      "layout": "IPY_MODEL_a596d207294746148cad543563e3600b",
      "max": 9912422,
      "min": 0,
      "orientation": "horizontal",
      "style": "IPY_MODEL_d7f31f3eee754d568220d010aa14ee1e",
      "value": 9912422
     }
    },
    "8c773d0669384360b106bd1872fb8bc4": {
     "model_module": "@jupyter-widgets/base",
     "model_name": "LayoutModel",
     "state": {
      "_model_module": "@jupyter-widgets/base",
      "_model_module_version": "1.2.0",
      "_model_name": "LayoutModel",
      "_view_count": null,
      "_view_module": "@jupyter-widgets/base",
      "_view_module_version": "1.2.0",
      "_view_name": "LayoutView",
      "align_content": null,
      "align_items": null,
      "align_self": null,
      "border": null,
      "bottom": null,
      "display": null,
      "flex": null,
      "flex_flow": null,
      "grid_area": null,
      "grid_auto_columns": null,
      "grid_auto_flow": null,
      "grid_auto_rows": null,
      "grid_column": null,
      "grid_gap": null,
      "grid_row": null,
      "grid_template_areas": null,
      "grid_template_columns": null,
      "grid_template_rows": null,
      "height": null,
      "justify_content": null,
      "justify_items": null,
      "left": null,
      "margin": null,
      "max_height": null,
      "max_width": null,
      "min_height": null,
      "min_width": null,
      "object_fit": null,
      "object_position": null,
      "order": null,
      "overflow": null,
      "overflow_x": null,
      "overflow_y": null,
      "padding": null,
      "right": null,
      "top": null,
      "visibility": null,
      "width": null
     }
    },
    "99823d19059e447796bbd2ba751e10ab": {
     "model_module": "@jupyter-widgets/base",
     "model_name": "LayoutModel",
     "state": {
      "_model_module": "@jupyter-widgets/base",
      "_model_module_version": "1.2.0",
      "_model_name": "LayoutModel",
      "_view_count": null,
      "_view_module": "@jupyter-widgets/base",
      "_view_module_version": "1.2.0",
      "_view_name": "LayoutView",
      "align_content": null,
      "align_items": null,
      "align_self": null,
      "border": null,
      "bottom": null,
      "display": null,
      "flex": null,
      "flex_flow": null,
      "grid_area": null,
      "grid_auto_columns": null,
      "grid_auto_flow": null,
      "grid_auto_rows": null,
      "grid_column": null,
      "grid_gap": null,
      "grid_row": null,
      "grid_template_areas": null,
      "grid_template_columns": null,
      "grid_template_rows": null,
      "height": null,
      "justify_content": null,
      "justify_items": null,
      "left": null,
      "margin": null,
      "max_height": null,
      "max_width": null,
      "min_height": null,
      "min_width": null,
      "object_fit": null,
      "object_position": null,
      "order": null,
      "overflow": null,
      "overflow_x": null,
      "overflow_y": null,
      "padding": null,
      "right": null,
      "top": null,
      "visibility": null,
      "width": null
     }
    },
    "998b7514e1014fa6af8715187d5016e4": {
     "model_module": "@jupyter-widgets/controls",
     "model_name": "DescriptionStyleModel",
     "state": {
      "_model_module": "@jupyter-widgets/controls",
      "_model_module_version": "1.5.0",
      "_model_name": "DescriptionStyleModel",
      "_view_count": null,
      "_view_module": "@jupyter-widgets/base",
      "_view_module_version": "1.2.0",
      "_view_name": "StyleView",
      "description_width": ""
     }
    },
    "a1b6d93d64944822b464263ee550fb69": {
     "model_module": "@jupyter-widgets/base",
     "model_name": "LayoutModel",
     "state": {
      "_model_module": "@jupyter-widgets/base",
      "_model_module_version": "1.2.0",
      "_model_name": "LayoutModel",
      "_view_count": null,
      "_view_module": "@jupyter-widgets/base",
      "_view_module_version": "1.2.0",
      "_view_name": "LayoutView",
      "align_content": null,
      "align_items": null,
      "align_self": null,
      "border": null,
      "bottom": null,
      "display": null,
      "flex": null,
      "flex_flow": null,
      "grid_area": null,
      "grid_auto_columns": null,
      "grid_auto_flow": null,
      "grid_auto_rows": null,
      "grid_column": null,
      "grid_gap": null,
      "grid_row": null,
      "grid_template_areas": null,
      "grid_template_columns": null,
      "grid_template_rows": null,
      "height": null,
      "justify_content": null,
      "justify_items": null,
      "left": null,
      "margin": null,
      "max_height": null,
      "max_width": null,
      "min_height": null,
      "min_width": null,
      "object_fit": null,
      "object_position": null,
      "order": null,
      "overflow": null,
      "overflow_x": null,
      "overflow_y": null,
      "padding": null,
      "right": null,
      "top": null,
      "visibility": null,
      "width": null
     }
    },
    "a4c6b27d76d04a498587c1b82a2eb65b": {
     "model_module": "@jupyter-widgets/controls",
     "model_name": "HTMLModel",
     "state": {
      "_dom_classes": [],
      "_model_module": "@jupyter-widgets/controls",
      "_model_module_version": "1.5.0",
      "_model_name": "HTMLModel",
      "_view_count": null,
      "_view_module": "@jupyter-widgets/controls",
      "_view_module_version": "1.5.0",
      "_view_name": "HTMLView",
      "description": "",
      "description_tooltip": null,
      "layout": "IPY_MODEL_e2d14972964d48b9b7581c95dc0c3abb",
      "placeholder": "​",
      "style": "IPY_MODEL_7ffed870b5874f2f894a5038dabf3081",
      "value": " 29696/? [00:02&lt;00:00, 13826.34it/s]"
     }
    },
    "a596d207294746148cad543563e3600b": {
     "model_module": "@jupyter-widgets/base",
     "model_name": "LayoutModel",
     "state": {
      "_model_module": "@jupyter-widgets/base",
      "_model_module_version": "1.2.0",
      "_model_name": "LayoutModel",
      "_view_count": null,
      "_view_module": "@jupyter-widgets/base",
      "_view_module_version": "1.2.0",
      "_view_name": "LayoutView",
      "align_content": null,
      "align_items": null,
      "align_self": null,
      "border": null,
      "bottom": null,
      "display": null,
      "flex": null,
      "flex_flow": null,
      "grid_area": null,
      "grid_auto_columns": null,
      "grid_auto_flow": null,
      "grid_auto_rows": null,
      "grid_column": null,
      "grid_gap": null,
      "grid_row": null,
      "grid_template_areas": null,
      "grid_template_columns": null,
      "grid_template_rows": null,
      "height": null,
      "justify_content": null,
      "justify_items": null,
      "left": null,
      "margin": null,
      "max_height": null,
      "max_width": null,
      "min_height": null,
      "min_width": null,
      "object_fit": null,
      "object_position": null,
      "order": null,
      "overflow": null,
      "overflow_x": null,
      "overflow_y": null,
      "padding": null,
      "right": null,
      "top": null,
      "visibility": null,
      "width": null
     }
    },
    "a962879d90f1490f92f16f028da80d40": {
     "model_module": "@jupyter-widgets/base",
     "model_name": "LayoutModel",
     "state": {
      "_model_module": "@jupyter-widgets/base",
      "_model_module_version": "1.2.0",
      "_model_name": "LayoutModel",
      "_view_count": null,
      "_view_module": "@jupyter-widgets/base",
      "_view_module_version": "1.2.0",
      "_view_name": "LayoutView",
      "align_content": null,
      "align_items": null,
      "align_self": null,
      "border": null,
      "bottom": null,
      "display": null,
      "flex": null,
      "flex_flow": null,
      "grid_area": null,
      "grid_auto_columns": null,
      "grid_auto_flow": null,
      "grid_auto_rows": null,
      "grid_column": null,
      "grid_gap": null,
      "grid_row": null,
      "grid_template_areas": null,
      "grid_template_columns": null,
      "grid_template_rows": null,
      "height": null,
      "justify_content": null,
      "justify_items": null,
      "left": null,
      "margin": null,
      "max_height": null,
      "max_width": null,
      "min_height": null,
      "min_width": null,
      "object_fit": null,
      "object_position": null,
      "order": null,
      "overflow": null,
      "overflow_x": null,
      "overflow_y": null,
      "padding": null,
      "right": null,
      "top": null,
      "visibility": null,
      "width": null
     }
    },
    "bcd5a81d78b84b929b0ea959e6a7611a": {
     "model_module": "@jupyter-widgets/controls",
     "model_name": "FloatProgressModel",
     "state": {
      "_dom_classes": [],
      "_model_module": "@jupyter-widgets/controls",
      "_model_module_version": "1.5.0",
      "_model_name": "FloatProgressModel",
      "_view_count": null,
      "_view_module": "@jupyter-widgets/controls",
      "_view_module_version": "1.5.0",
      "_view_name": "ProgressView",
      "bar_style": "success",
      "description": "",
      "description_tooltip": null,
      "layout": "IPY_MODEL_22db1894fff44ce59df2f825f76baab5",
      "max": 28881,
      "min": 0,
      "orientation": "horizontal",
      "style": "IPY_MODEL_1c6c6718b9b34adea6a8db9edc3c847d",
      "value": 28881
     }
    },
    "d7f31f3eee754d568220d010aa14ee1e": {
     "model_module": "@jupyter-widgets/controls",
     "model_name": "ProgressStyleModel",
     "state": {
      "_model_module": "@jupyter-widgets/controls",
      "_model_module_version": "1.5.0",
      "_model_name": "ProgressStyleModel",
      "_view_count": null,
      "_view_module": "@jupyter-widgets/base",
      "_view_module_version": "1.2.0",
      "_view_name": "StyleView",
      "bar_color": null,
      "description_width": "initial"
     }
    },
    "de1208c7c4a54ce2b8151e11191343e4": {
     "model_module": "@jupyter-widgets/base",
     "model_name": "LayoutModel",
     "state": {
      "_model_module": "@jupyter-widgets/base",
      "_model_module_version": "1.2.0",
      "_model_name": "LayoutModel",
      "_view_count": null,
      "_view_module": "@jupyter-widgets/base",
      "_view_module_version": "1.2.0",
      "_view_name": "LayoutView",
      "align_content": null,
      "align_items": null,
      "align_self": null,
      "border": null,
      "bottom": null,
      "display": null,
      "flex": null,
      "flex_flow": null,
      "grid_area": null,
      "grid_auto_columns": null,
      "grid_auto_flow": null,
      "grid_auto_rows": null,
      "grid_column": null,
      "grid_gap": null,
      "grid_row": null,
      "grid_template_areas": null,
      "grid_template_columns": null,
      "grid_template_rows": null,
      "height": null,
      "justify_content": null,
      "justify_items": null,
      "left": null,
      "margin": null,
      "max_height": null,
      "max_width": null,
      "min_height": null,
      "min_width": null,
      "object_fit": null,
      "object_position": null,
      "order": null,
      "overflow": null,
      "overflow_x": null,
      "overflow_y": null,
      "padding": null,
      "right": null,
      "top": null,
      "visibility": null,
      "width": null
     }
    },
    "e2d14972964d48b9b7581c95dc0c3abb": {
     "model_module": "@jupyter-widgets/base",
     "model_name": "LayoutModel",
     "state": {
      "_model_module": "@jupyter-widgets/base",
      "_model_module_version": "1.2.0",
      "_model_name": "LayoutModel",
      "_view_count": null,
      "_view_module": "@jupyter-widgets/base",
      "_view_module_version": "1.2.0",
      "_view_name": "LayoutView",
      "align_content": null,
      "align_items": null,
      "align_self": null,
      "border": null,
      "bottom": null,
      "display": null,
      "flex": null,
      "flex_flow": null,
      "grid_area": null,
      "grid_auto_columns": null,
      "grid_auto_flow": null,
      "grid_auto_rows": null,
      "grid_column": null,
      "grid_gap": null,
      "grid_row": null,
      "grid_template_areas": null,
      "grid_template_columns": null,
      "grid_template_rows": null,
      "height": null,
      "justify_content": null,
      "justify_items": null,
      "left": null,
      "margin": null,
      "max_height": null,
      "max_width": null,
      "min_height": null,
      "min_width": null,
      "object_fit": null,
      "object_position": null,
      "order": null,
      "overflow": null,
      "overflow_x": null,
      "overflow_y": null,
      "padding": null,
      "right": null,
      "top": null,
      "visibility": null,
      "width": null
     }
    },
    "e79834faee6c46fd93ba120a3bd17b23": {
     "model_module": "@jupyter-widgets/controls",
     "model_name": "HBoxModel",
     "state": {
      "_dom_classes": [],
      "_model_module": "@jupyter-widgets/controls",
      "_model_module_version": "1.5.0",
      "_model_name": "HBoxModel",
      "_view_count": null,
      "_view_module": "@jupyter-widgets/controls",
      "_view_module_version": "1.5.0",
      "_view_name": "HBoxView",
      "box_style": "",
      "children": [
       "IPY_MODEL_bcd5a81d78b84b929b0ea959e6a7611a",
       "IPY_MODEL_a4c6b27d76d04a498587c1b82a2eb65b"
      ],
      "layout": "IPY_MODEL_99823d19059e447796bbd2ba751e10ab"
     }
    },
    "fce59353185a4c5ab447d161f4c256f0": {
     "model_module": "@jupyter-widgets/controls",
     "model_name": "HBoxModel",
     "state": {
      "_dom_classes": [],
      "_model_module": "@jupyter-widgets/controls",
      "_model_module_version": "1.5.0",
      "_model_name": "HBoxModel",
      "_view_count": null,
      "_view_module": "@jupyter-widgets/controls",
      "_view_module_version": "1.5.0",
      "_view_name": "HBoxView",
      "box_style": "",
      "children": [
       "IPY_MODEL_74fc3a3966b8487ba9f42d5caeec779a",
       "IPY_MODEL_562598e8a9d34eb2a09bafe8551996b6"
      ],
      "layout": "IPY_MODEL_a962879d90f1490f92f16f028da80d40"
     }
    }
   }
  }
 },
 "nbformat": 4,
 "nbformat_minor": 1
}
